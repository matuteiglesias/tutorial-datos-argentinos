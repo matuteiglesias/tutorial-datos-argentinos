{
 "cells": [
  {
   "cell_type": "code",
   "execution_count": 1,
   "metadata": {
    "collapsed": true
   },
   "outputs": [],
   "source": [
    "import geopandas as gpd\n",
    "from geopandas.tools import sjoin\n",
    "\n",
    "import warnings\n",
    "warnings.filterwarnings('ignore')"
   ]
  },
  {
   "cell_type": "code",
   "execution_count": null,
   "metadata": {
    "collapsed": false
   },
   "outputs": [],
   "source": [
    "#import datasets\n",
    "voronoi = gpd.read_file('../../datos/voronoi_shp/voronoi_escuelas_secundarias_AMBA.shp')\n",
    "AMBA_datos_persona_13_18 = gpd.read_file('../../datos/AMBA_datos_persona_shp/AMBA_datos_persona_13_18.shp')"
   ]
  },
  {
   "cell_type": "code",
   "execution_count": null,
   "metadata": {
    "collapsed": false
   },
   "outputs": [],
   "source": [
    "\n",
    "intersections= gpd.sjoin(voronoi, AMBA_datos_persona_13_18, how=\"right\", op='intersects').reset_index()\n",
    "df = intersections.merge(voronoi.reset_index(), on = 'index_left')\n",
    "df.rename(columns = {'index_right': 'index_radio', 'index_left': 'index_voronoi'}, inplace=True)"
   ]
  },
  {
   "cell_type": "code",
   "execution_count": null,
   "metadata": {
    "collapsed": false
   },
   "outputs": [],
   "source": [
    "df['intersect_portion'] = \"\"\n",
    "df['geometry'] = \"\"\n",
    "\n",
    "for i, row in df.iterrows():\n",
    "    df.set_value(i,'geometry', row['geometry_x'].intersection(row['geometry_y']))\n",
    "    df.set_value(i,'intersect_portion', row['geometry_x'].intersection(row['geometry_y']).area/(row['geometry_x'].area))\n",
    "    \n",
    "df_intersect = df[['index_voronoi','index_radio']].join(df[['varon','mujer','totalpobl','hogares','persona_13','area_km2']].apply(lambda col: col.mul(df['intersect_portion'])))\n",
    "df_intersect.set_index(['index_voronoi','index_radio'], inplace=True)\n",
    "df_intersect = df_intersect.add_prefix('intersect_')\n",
    "df_intersect['geometry'] = df['geometry'].values\n",
    "df_intersect['intersect_portion'] = df['intersect_portion'].values"
   ]
  },
  {
   "cell_type": "code",
   "execution_count": null,
   "metadata": {
    "collapsed": true
   },
   "outputs": [],
   "source": [
    "inters_cols = [col for col in df_intersect.columns if 'intersect_' in col]\n",
    "\n",
    "voronoi_aggregation = df_intersect[inters_cols].groupby( level=['index_voronoi']).sum()\n",
    "voronoi_aggregation.columns = [u'voronoi_varon', u'voronoi_mujer', u'voronoi_totalpobl',\n",
    "       u'voronoi_hogares', u'voronoi_persona_13_18',\n",
    "       u'voronoi_area_km2']\n",
    "\n",
    "densidad = df.groupby('index_radio')['densidad'].mean().to_frame()\n",
    "plot_data = df_intersect.join(voronoi_aggregation).join(densidad)[['geometry', 'voronoi_persona_13_18','densidad']]\n",
    "plot_data = gpd.GeoDataFrame(plot_data)"
   ]
  },
  {
   "cell_type": "code",
   "execution_count": null,
   "metadata": {
    "collapsed": false
   },
   "outputs": [],
   "source": [
    "import matplotlib.pyplot as plt\n",
    "%matplotlib inline\n",
    "\n",
    "partidos = gpd.read_file('../../datos/partidos_shp/partidos.shp')\n",
    "CABA_datos= gpd.read_file('../../datos/CABA_datos_shp/CABA_datos.shp')\n",
    "\n",
    "plot_data['-voronoi_persona_13_18'] = -plot_data['voronoi_persona_13_18']\n",
    "\n",
    "f, ax = plt.subplots(1, figsize=(10, 10))\n",
    "plot_data.plot(column = '-voronoi_persona_13_18', axes = ax, edgecolors = 'None', vmin = -3000, vmax = 0, cmap = 'RdYlGn')\n",
    "partidos['geometry'].plot(axes=ax, color = 'None', edgecolor = 'w')\n",
    "CABA_datos.dissolve(by = 'depto')['geometry'].plot(axes=ax, color = 'None', edgecolor = 'w')\n",
    "\n",
    "plt.xlim(4140000, 4220000)\n",
    "plt.ylim(6100000, 6180000)\n",
    "plt.savefig('chicos_por_escuela.png')\n",
    "plt.show()"
   ]
  },
  {
   "cell_type": "code",
   "execution_count": null,
   "metadata": {
    "collapsed": false
   },
   "outputs": [],
   "source": [
    "import matplotlib\n",
    "matplotlib.rc('axes',edgecolor='w')\n",
    "\n",
    "f, ax = plt.subplots(1, figsize=(16, 4))\n",
    "plot_data.plot(column = '-voronoi_persona_13_18', axes = ax, edgecolors = 'None', vmin = -3000, vmax = 0, cmap = 'RdYlGn')\n",
    "partidos['geometry'].plot(axes=ax, color = 'None', edgecolor = 'w')\n",
    "CABA_datos.dissolve(by = 'depto')['geometry'].plot(axes=ax, color = 'None', edgecolor = 'w')\n",
    "\n",
    "plt.xlim(4165000, 4205000)\n",
    "plt.ylim(6140000, 6150000)\n",
    "ax.set_xticks([])\n",
    "ax.set_yticks([])\n",
    "\n",
    "plt.savefig('chicos_por_escuela_banner.png')\n",
    "plt.show()"
   ]
  },
  {
   "cell_type": "code",
   "execution_count": null,
   "metadata": {
    "collapsed": true
   },
   "outputs": [],
   "source": []
  }
 ],
 "metadata": {
  "kernelspec": {
   "display_name": "Python 2",
   "language": "python",
   "name": "python2"
  },
  "language_info": {
   "codemirror_mode": {
    "name": "ipython",
    "version": 2
   },
   "file_extension": ".py",
   "mimetype": "text/x-python",
   "name": "python",
   "nbconvert_exporter": "python",
   "pygments_lexer": "ipython2",
   "version": "2.7.13"
  }
 },
 "nbformat": 4,
 "nbformat_minor": 0
}
