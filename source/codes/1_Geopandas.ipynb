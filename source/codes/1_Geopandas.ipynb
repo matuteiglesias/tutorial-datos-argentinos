{
 "cells": [
  {
   "cell_type": "code",
   "execution_count": 1,
   "metadata": {
    "collapsed": false
   },
   "outputs": [
    {
     "data": {
      "text/html": [
       "<div>\n",
       "<style scoped>\n",
       "    .dataframe tbody tr th:only-of-type {\n",
       "        vertical-align: middle;\n",
       "    }\n",
       "\n",
       "    .dataframe tbody tr th {\n",
       "        vertical-align: top;\n",
       "    }\n",
       "\n",
       "    .dataframe thead th {\n",
       "        text-align: right;\n",
       "    }\n",
       "</style>\n",
       "<table border=\"1\" class=\"dataframe\">\n",
       "  <thead>\n",
       "    <tr style=\"text-align: right;\">\n",
       "      <th></th>\n",
       "      <th>radio</th>\n",
       "      <th>edad_0</th>\n",
       "      <th>edad_1</th>\n",
       "      <th>edad_2</th>\n",
       "      <th>edad_3</th>\n",
       "      <th>edad_4</th>\n",
       "      <th>edad_5</th>\n",
       "      <th>edad_6</th>\n",
       "      <th>edad_7</th>\n",
       "      <th>edad_8</th>\n",
       "      <th>...</th>\n",
       "      <th>edad_102</th>\n",
       "      <th>edad_103</th>\n",
       "      <th>edad_104</th>\n",
       "      <th>edad_105</th>\n",
       "      <th>edad_106</th>\n",
       "      <th>edad_107</th>\n",
       "      <th>edad_108</th>\n",
       "      <th>edad_109</th>\n",
       "      <th>edad_110</th>\n",
       "      <th>TOTAL</th>\n",
       "    </tr>\n",
       "  </thead>\n",
       "  <tbody>\n",
       "    <tr>\n",
       "      <th>18257</th>\n",
       "      <td>64413209</td>\n",
       "      <td>11</td>\n",
       "      <td>11</td>\n",
       "      <td>11</td>\n",
       "      <td>10</td>\n",
       "      <td>9</td>\n",
       "      <td>8</td>\n",
       "      <td>9</td>\n",
       "      <td>10</td>\n",
       "      <td>12</td>\n",
       "      <td>...</td>\n",
       "      <td>0</td>\n",
       "      <td>0</td>\n",
       "      <td>0</td>\n",
       "      <td>0</td>\n",
       "      <td>0</td>\n",
       "      <td>0</td>\n",
       "      <td>0</td>\n",
       "      <td>0</td>\n",
       "      <td>0</td>\n",
       "      <td>721</td>\n",
       "    </tr>\n",
       "    <tr>\n",
       "      <th>34914</th>\n",
       "      <td>301131003</td>\n",
       "      <td>1</td>\n",
       "      <td>0</td>\n",
       "      <td>1</td>\n",
       "      <td>1</td>\n",
       "      <td>0</td>\n",
       "      <td>2</td>\n",
       "      <td>1</td>\n",
       "      <td>3</td>\n",
       "      <td>2</td>\n",
       "      <td>...</td>\n",
       "      <td>0</td>\n",
       "      <td>0</td>\n",
       "      <td>0</td>\n",
       "      <td>0</td>\n",
       "      <td>0</td>\n",
       "      <td>0</td>\n",
       "      <td>0</td>\n",
       "      <td>0</td>\n",
       "      <td>0</td>\n",
       "      <td>97</td>\n",
       "    </tr>\n",
       "    <tr>\n",
       "      <th>3916</th>\n",
       "      <td>60283009</td>\n",
       "      <td>23</td>\n",
       "      <td>30</td>\n",
       "      <td>29</td>\n",
       "      <td>29</td>\n",
       "      <td>29</td>\n",
       "      <td>38</td>\n",
       "      <td>30</td>\n",
       "      <td>32</td>\n",
       "      <td>33</td>\n",
       "      <td>...</td>\n",
       "      <td>0</td>\n",
       "      <td>0</td>\n",
       "      <td>0</td>\n",
       "      <td>0</td>\n",
       "      <td>0</td>\n",
       "      <td>0</td>\n",
       "      <td>0</td>\n",
       "      <td>0</td>\n",
       "      <td>0</td>\n",
       "      <td>1318</td>\n",
       "    </tr>\n",
       "    <tr>\n",
       "      <th>30457</th>\n",
       "      <td>220630105</td>\n",
       "      <td>11</td>\n",
       "      <td>9</td>\n",
       "      <td>15</td>\n",
       "      <td>10</td>\n",
       "      <td>11</td>\n",
       "      <td>19</td>\n",
       "      <td>8</td>\n",
       "      <td>14</td>\n",
       "      <td>12</td>\n",
       "      <td>...</td>\n",
       "      <td>0</td>\n",
       "      <td>0</td>\n",
       "      <td>0</td>\n",
       "      <td>0</td>\n",
       "      <td>0</td>\n",
       "      <td>0</td>\n",
       "      <td>0</td>\n",
       "      <td>0</td>\n",
       "      <td>0</td>\n",
       "      <td>767</td>\n",
       "    </tr>\n",
       "    <tr>\n",
       "      <th>52087</th>\n",
       "      <td>901051006</td>\n",
       "      <td>17</td>\n",
       "      <td>14</td>\n",
       "      <td>17</td>\n",
       "      <td>14</td>\n",
       "      <td>22</td>\n",
       "      <td>20</td>\n",
       "      <td>22</td>\n",
       "      <td>17</td>\n",
       "      <td>29</td>\n",
       "      <td>...</td>\n",
       "      <td>0</td>\n",
       "      <td>0</td>\n",
       "      <td>0</td>\n",
       "      <td>0</td>\n",
       "      <td>0</td>\n",
       "      <td>0</td>\n",
       "      <td>0</td>\n",
       "      <td>0</td>\n",
       "      <td>0</td>\n",
       "      <td>1289</td>\n",
       "    </tr>\n",
       "  </tbody>\n",
       "</table>\n",
       "<p>5 rows × 113 columns</p>\n",
       "</div>"
      ],
      "text/plain": [
       "           radio  edad_0  edad_1  edad_2  edad_3  edad_4  edad_5  edad_6  \\\n",
       "18257   64413209      11      11      11      10       9       8       9   \n",
       "34914  301131003       1       0       1       1       0       2       1   \n",
       "3916    60283009      23      30      29      29      29      38      30   \n",
       "30457  220630105      11       9      15      10      11      19       8   \n",
       "52087  901051006      17      14      17      14      22      20      22   \n",
       "\n",
       "       edad_7  edad_8  ...    edad_102  edad_103  edad_104  edad_105  \\\n",
       "18257      10      12  ...           0         0         0         0   \n",
       "34914       3       2  ...           0         0         0         0   \n",
       "3916       32      33  ...           0         0         0         0   \n",
       "30457      14      12  ...           0         0         0         0   \n",
       "52087      17      29  ...           0         0         0         0   \n",
       "\n",
       "       edad_106  edad_107  edad_108  edad_109  edad_110  TOTAL  \n",
       "18257         0         0         0         0         0    721  \n",
       "34914         0         0         0         0         0     97  \n",
       "3916          0         0         0         0         0   1318  \n",
       "30457         0         0         0         0         0    767  \n",
       "52087         0         0         0         0         0   1289  \n",
       "\n",
       "[5 rows x 113 columns]"
      ]
     },
     "execution_count": 1,
     "metadata": {},
     "output_type": "execute_result"
    }
   ],
   "source": [
    "import pandas as pd\n",
    "\n",
    "persona = pd.read_csv('../../datos/PERSONA-P03.csv')\n",
    "\n",
    "persona.sample(5)"
   ]
  },
  {
   "cell_type": "code",
   "execution_count": 2,
   "metadata": {
    "collapsed": false
   },
   "outputs": [
    {
     "data": {
      "text/html": [
       "<div>\n",
       "<style scoped>\n",
       "    .dataframe tbody tr th:only-of-type {\n",
       "        vertical-align: middle;\n",
       "    }\n",
       "\n",
       "    .dataframe tbody tr th {\n",
       "        vertical-align: top;\n",
       "    }\n",
       "\n",
       "    .dataframe thead th {\n",
       "        text-align: right;\n",
       "    }\n",
       "</style>\n",
       "<table border=\"1\" class=\"dataframe\">\n",
       "  <thead>\n",
       "    <tr style=\"text-align: right;\">\n",
       "      <th></th>\n",
       "      <th>link</th>\n",
       "      <th>codpcia</th>\n",
       "      <th>coddpto</th>\n",
       "      <th>codloc</th>\n",
       "      <th>provincia</th>\n",
       "      <th>departamen</th>\n",
       "      <th>localidad</th>\n",
       "      <th>func_loc</th>\n",
       "      <th>tiploc</th>\n",
       "      <th>tip2loc</th>\n",
       "      <th>...</th>\n",
       "      <th>longitud</th>\n",
       "      <th>xgk</th>\n",
       "      <th>ygk</th>\n",
       "      <th>varones</th>\n",
       "      <th>mujeres</th>\n",
       "      <th>personas</th>\n",
       "      <th>hogares</th>\n",
       "      <th>viv_part_h</th>\n",
       "      <th>viv_part</th>\n",
       "      <th>geometry</th>\n",
       "    </tr>\n",
       "  </thead>\n",
       "  <tbody>\n",
       "    <tr>\n",
       "      <th>1009</th>\n",
       "      <td>14098310</td>\n",
       "      <td>14</td>\n",
       "      <td>098</td>\n",
       "      <td>310</td>\n",
       "      <td>Córdoba</td>\n",
       "      <td>Río Cuarto</td>\n",
       "      <td>Villa Santa Eugenia</td>\n",
       "      <td>0</td>\n",
       "      <td>1</td>\n",
       "      <td>0</td>\n",
       "      <td>...</td>\n",
       "      <td>64 44 14</td>\n",
       "      <td>6383748.0</td>\n",
       "      <td>4337040.0</td>\n",
       "      <td>69.0</td>\n",
       "      <td>57.0</td>\n",
       "      <td>126.0</td>\n",
       "      <td>34.0</td>\n",
       "      <td>34.0</td>\n",
       "      <td>139.0</td>\n",
       "      <td>POINT (3618057 6385658)</td>\n",
       "    </tr>\n",
       "    <tr>\n",
       "      <th>2755</th>\n",
       "      <td>70119040</td>\n",
       "      <td>70</td>\n",
       "      <td>119</td>\n",
       "      <td>040</td>\n",
       "      <td>San Juan</td>\n",
       "      <td>Valle Fértil</td>\n",
       "      <td>Los Baldecitos</td>\n",
       "      <td>0</td>\n",
       "      <td>1</td>\n",
       "      <td>0</td>\n",
       "      <td>...</td>\n",
       "      <td>67 42 02</td>\n",
       "      <td>2625108.0</td>\n",
       "      <td>6656494.0</td>\n",
       "      <td>25.0</td>\n",
       "      <td>28.0</td>\n",
       "      <td>53.0</td>\n",
       "      <td>17.0</td>\n",
       "      <td>17.0</td>\n",
       "      <td>24.0</td>\n",
       "      <td>POINT (3336194.5 6655775.5)</td>\n",
       "    </tr>\n",
       "    <tr>\n",
       "      <th>2082</th>\n",
       "      <td>50056010</td>\n",
       "      <td>50</td>\n",
       "      <td>056</td>\n",
       "      <td>010</td>\n",
       "      <td>Mendoza</td>\n",
       "      <td>Lavalle</td>\n",
       "      <td>Barrio Alto del Olvido</td>\n",
       "      <td>0</td>\n",
       "      <td>1</td>\n",
       "      <td>0</td>\n",
       "      <td>...</td>\n",
       "      <td>68 35 32</td>\n",
       "      <td>2538246.0</td>\n",
       "      <td>6385433.0</td>\n",
       "      <td>138.0</td>\n",
       "      <td>128.0</td>\n",
       "      <td>266.0</td>\n",
       "      <td>68.0</td>\n",
       "      <td>66.0</td>\n",
       "      <td>71.0</td>\n",
       "      <td>POINT (3256821 6382536)</td>\n",
       "    </tr>\n",
       "  </tbody>\n",
       "</table>\n",
       "<p>3 rows × 21 columns</p>\n",
       "</div>"
      ],
      "text/plain": [
       "          link codpcia coddpto codloc provincia    departamen  \\\n",
       "1009  14098310      14     098    310   Córdoba    Río Cuarto   \n",
       "2755  70119040      70     119    040  San Juan  Valle Fértil   \n",
       "2082  50056010      50     056    010   Mendoza       Lavalle   \n",
       "\n",
       "                   localidad func_loc tiploc tip2loc  \\\n",
       "1009     Villa Santa Eugenia        0      1       0   \n",
       "2755          Los Baldecitos        0      1       0   \n",
       "2082  Barrio Alto del Olvido        0      1       0   \n",
       "\n",
       "                 ...               longitud        xgk        ygk  varones  \\\n",
       "1009             ...               64 44 14  6383748.0  4337040.0     69.0   \n",
       "2755             ...               67 42 02  2625108.0  6656494.0     25.0   \n",
       "2082             ...               68 35 32  2538246.0  6385433.0    138.0   \n",
       "\n",
       "      mujeres  personas  hogares  viv_part_h  viv_part  \\\n",
       "1009     57.0     126.0     34.0        34.0     139.0   \n",
       "2755     28.0      53.0     17.0        17.0      24.0   \n",
       "2082    128.0     266.0     68.0        66.0      71.0   \n",
       "\n",
       "                         geometry  \n",
       "1009      POINT (3618057 6385658)  \n",
       "2755  POINT (3336194.5 6655775.5)  \n",
       "2082      POINT (3256821 6382536)  \n",
       "\n",
       "[3 rows x 21 columns]"
      ]
     },
     "execution_count": 2,
     "metadata": {},
     "output_type": "execute_result"
    }
   ],
   "source": [
    " "
   ]
  },
  {
   "cell_type": "code",
   "execution_count": 3,
   "metadata": {
    "collapsed": false
   },
   "outputs": [
    {
     "data": {
      "text/plain": [
       "Index([      u'link',    u'codpcia',    u'coddpto',     u'codloc',\n",
       "        u'provincia', u'departamen',  u'localidad',   u'func_loc',\n",
       "           u'tiploc',    u'tip2loc',    u'latitud',   u'longitud',\n",
       "              u'xgk',        u'ygk',    u'varones',    u'mujeres',\n",
       "         u'personas',    u'hogares', u'viv_part_h',   u'viv_part',\n",
       "         u'geometry'],\n",
       "      dtype='object')"
      ]
     },
     "execution_count": 3,
     "metadata": {},
     "output_type": "execute_result"
    }
   ],
   "source": [
    "pxlocdatos.columns"
   ]
  },
  {
   "cell_type": "code",
   "execution_count": 4,
   "metadata": {
    "collapsed": false
   },
   "outputs": [
    {
     "data": {
      "text/plain": [
       "{u'ellps': u'WGS84',\n",
       " u'k': 1,\n",
       " u'lat_0': -90,\n",
       " u'lon_0': -66,\n",
       " u'no_defs': True,\n",
       " u'proj': u'tmerc',\n",
       " u'units': u'm',\n",
       " u'x_0': 3500000,\n",
       " u'y_0': 0}"
      ]
     },
     "execution_count": 4,
     "metadata": {},
     "output_type": "execute_result"
    }
   ],
   "source": [
    "pxlocdatos.crs"
   ]
  },
  {
   "cell_type": "code",
   "execution_count": 5,
   "metadata": {
    "collapsed": false
   },
   "outputs": [
    {
     "data": {
      "text/html": [
       "<div>\n",
       "<style scoped>\n",
       "    .dataframe tbody tr th:only-of-type {\n",
       "        vertical-align: middle;\n",
       "    }\n",
       "\n",
       "    .dataframe tbody tr th {\n",
       "        vertical-align: top;\n",
       "    }\n",
       "\n",
       "    .dataframe thead th {\n",
       "        text-align: right;\n",
       "    }\n",
       "</style>\n",
       "<table border=\"1\" class=\"dataframe\">\n",
       "  <thead>\n",
       "    <tr style=\"text-align: right;\">\n",
       "      <th></th>\n",
       "      <th>toponimo_i</th>\n",
       "      <th>link</th>\n",
       "      <th>varon</th>\n",
       "      <th>mujer</th>\n",
       "      <th>totalpobl</th>\n",
       "      <th>hogares</th>\n",
       "      <th>viviendasp</th>\n",
       "      <th>viv_part_h</th>\n",
       "      <th>geometry</th>\n",
       "    </tr>\n",
       "  </thead>\n",
       "  <tbody>\n",
       "    <tr>\n",
       "      <th>6792</th>\n",
       "      <td>307155</td>\n",
       "      <td>064415910</td>\n",
       "      <td>570.0</td>\n",
       "      <td>621.0</td>\n",
       "      <td>1191.0</td>\n",
       "      <td>385.0</td>\n",
       "      <td>411.0</td>\n",
       "      <td>361.0</td>\n",
       "      <td>POLYGON ((4226697.336795198 6111329.748178905,...</td>\n",
       "    </tr>\n",
       "    <tr>\n",
       "      <th>17077</th>\n",
       "      <td>286955</td>\n",
       "      <td>067280801</td>\n",
       "      <td>62.0</td>\n",
       "      <td>52.0</td>\n",
       "      <td>114.0</td>\n",
       "      <td>38.0</td>\n",
       "      <td>63.0</td>\n",
       "      <td>38.0</td>\n",
       "      <td>POLYGON ((4094620.313318326 6172585.139583239,...</td>\n",
       "    </tr>\n",
       "    <tr>\n",
       "      <th>14180</th>\n",
       "      <td>284748</td>\n",
       "      <td>060840601</td>\n",
       "      <td>0.0</td>\n",
       "      <td>0.0</td>\n",
       "      <td>0.0</td>\n",
       "      <td>0.0</td>\n",
       "      <td>0.0</td>\n",
       "      <td>0.0</td>\n",
       "      <td>POLYGON ((4020598.240887428 5822187.453159402,...</td>\n",
       "    </tr>\n",
       "    <tr>\n",
       "      <th>4887</th>\n",
       "      <td>334921</td>\n",
       "      <td>067840202</td>\n",
       "      <td>257.0</td>\n",
       "      <td>264.0</td>\n",
       "      <td>521.0</td>\n",
       "      <td>160.0</td>\n",
       "      <td>208.0</td>\n",
       "      <td>157.0</td>\n",
       "      <td>POLYGON ((4074338.101341895 6154632.043071774,...</td>\n",
       "    </tr>\n",
       "    <tr>\n",
       "      <th>11914</th>\n",
       "      <td>285899</td>\n",
       "      <td>064480903</td>\n",
       "      <td>7.0</td>\n",
       "      <td>4.0</td>\n",
       "      <td>11.0</td>\n",
       "      <td>3.0</td>\n",
       "      <td>5.0</td>\n",
       "      <td>3.0</td>\n",
       "      <td>POLYGON ((3941888.882785541 5800656.079381049,...</td>\n",
       "    </tr>\n",
       "  </tbody>\n",
       "</table>\n",
       "</div>"
      ],
      "text/plain": [
       "       toponimo_i       link  varon  mujer  totalpobl  hogares  viviendasp  \\\n",
       "6792       307155  064415910  570.0  621.0     1191.0    385.0       411.0   \n",
       "17077      286955  067280801   62.0   52.0      114.0     38.0        63.0   \n",
       "14180      284748  060840601    0.0    0.0        0.0      0.0         0.0   \n",
       "4887       334921  067840202  257.0  264.0      521.0    160.0       208.0   \n",
       "11914      285899  064480903    7.0    4.0       11.0      3.0         5.0   \n",
       "\n",
       "       viv_part_h                                           geometry  \n",
       "6792        361.0  POLYGON ((4226697.336795198 6111329.748178905,...  \n",
       "17077        38.0  POLYGON ((4094620.313318326 6172585.139583239,...  \n",
       "14180         0.0  POLYGON ((4020598.240887428 5822187.453159402,...  \n",
       "4887        157.0  POLYGON ((4074338.101341895 6154632.043071774,...  \n",
       "11914         3.0  POLYGON ((3941888.882785541 5800656.079381049,...  "
      ]
     },
     "execution_count": 5,
     "metadata": {},
     "output_type": "execute_result"
    }
   ],
   "source": [
    "Buenos_Aires_datos = gpd.read_file(\"../../datos/Buenos Aires/Buenos_Aires_con_datos.shp\")\n",
    "Buenos_Aires_datos.sample(5)"
   ]
  },
  {
   "cell_type": "code",
   "execution_count": 6,
   "metadata": {
    "collapsed": false
   },
   "outputs": [
    {
     "data": {
      "image/svg+xml": [
       "<svg xmlns=\"http://www.w3.org/2000/svg\" xmlns:xlink=\"http://www.w3.org/1999/xlink\" width=\"300\" height=\"300\" viewBox=\"4093764.62393 6237816.4763 6529.92991363 6179.00297715\" preserveAspectRatio=\"xMinYMin meet\"><g transform=\"matrix(1,0,0,-1,0,12481811.9556)\"><path fill-rule=\"evenodd\" fill=\"#66cc99\" stroke=\"#555555\" stroke-width=\"43.5328660909\" opacity=\"0.6\" d=\"M 4095357.92298,6243753.63002 L 4096184.68768,6243018.6318 L 4096415.02135,6243301.45102 L 4097142.5604,6242658.76576 L 4097181.39875,6242746.5393 L 4097524.83688,6242649.48387 L 4098094.8128,6242202.63343 L 4099296.33099,6241260.53696 L 4099488.7139,6241109.4283 L 4099493.05,6241106.15619 L 4099836.78344,6240842.05535 L 4099901.41518,6240880.53068 L 4100052.70459,6240775.08844 L 4099808.14605,6240455.86762 L 4099682.85975,6240292.15794 L 4099558.66402,6240129.89417 L 4099469.84335,6240013.35143 L 4099393.31403,6239917.72123 L 4099310.94954,6239808.34702 L 4099185.39608,6239648.67967 L 4099074.55266,6239508.27419 L 4098992.33467,6239401.40764 L 4098956.81257,6239353.18106 L 4098813.21764,6239168.9154 L 4098447.8489,6238693.78781 L 4098189.16584,6238356.79475 L 4097959.90279,6238058.32555 L 4097957.04156,6238061.00837 L 4097619.90938,6238411.75785 L 4097593.83317,6238438.9403 L 4096519.33966,6239556.23342 L 4095990.17471,6240106.84903 L 4094035.79542,6242185.55162 L 4094041.81736,6242348.68258 L 4094006.47319,6242492.60323 L 4094149.6803,6242636.13993 L 4094205.62029,6242723.91551 L 4094301.0787,6242799.31915 L 4094364.54209,6242964.12118 L 4094422.68865,6242977.82312 L 4094533.82125,6242916.99588 L 4094650.79196,6242947.37833 L 4094969.63022,6243100.76605 L 4095141.90523,6243182.24189 L 4095230.58966,6243322.43156 L 4095235.09071,6243528.4119 L 4095344.77434,6243743.83524 L 4095357.92298,6243753.63002 z\" /></g></svg>"
      ],
      "text/plain": [
       "<shapely.geometry.polygon.Polygon at 0x7fa757cd7050>"
      ]
     },
     "execution_count": 6,
     "metadata": {},
     "output_type": "execute_result"
    }
   ],
   "source": [
    "Buenos_Aires_datos['geometry'][10]"
   ]
  },
  {
   "cell_type": "code",
   "execution_count": 7,
   "metadata": {
    "collapsed": false
   },
   "outputs": [],
   "source": [
    "Buenos_Aires_datos['prov'] = Buenos_Aires_datos['link'].str[:2]\n",
    "Buenos_Aires_datos['depto'] = Buenos_Aires_datos['link'].str[2:5]\n",
    "Buenos_Aires_datos['dpto_link'] = Buenos_Aires_datos['link'].str[:5]"
   ]
  },
  {
   "cell_type": "code",
   "execution_count": 8,
   "metadata": {
    "collapsed": false
   },
   "outputs": [],
   "source": [
    "CABA_datos = gpd.read_file(\"../../datos/CABA/cabaxrdatos.shp\")"
   ]
  },
  {
   "cell_type": "code",
   "execution_count": 9,
   "metadata": {
    "collapsed": false
   },
   "outputs": [],
   "source": [
    "# centro = pxlocdatos.loc[pxlocdatos['provincia'] == u'Ciudad Aut\\xf3noma de Buenos Aires']['geometry'][0]"
   ]
  },
  {
   "cell_type": "code",
   "execution_count": 10,
   "metadata": {
    "collapsed": false
   },
   "outputs": [],
   "source": [
    "\n",
    "# pxlocdatos['distancia_centro'] = [centro.distance(m) for m in pxlocdatos.geometry]\n",
    "# pxlocdatos['dpto_link'] = pxlocdatos['codpcia'] + pxlocdatos['coddpto']\n",
    "# pxlocdatos_AMBA = pxlocdatos.sort_values(by = 'distancia_centro').head(50)\n",
    "\n",
    "# persona.rename(columns={'radio': 'link', 'TOTAL': 'totalpobl'}, inplace=True)\n",
    "# persona['link'] = persona['link'].astype(str).str.zfill(9)"
   ]
  },
  {
   "cell_type": "code",
   "execution_count": 11,
   "metadata": {
    "collapsed": false
   },
   "outputs": [
    {
     "data": {
      "image/png": "[encoded data removed]",
      "text/plain": [
       "<matplotlib.figure.Figure at 0x7fa754192b10>"
      ]
     },
     "metadata": {},
     "output_type": "display_data"
    }
   ],
   "source": [
    "import matplotlib.pyplot as plt\n",
    "%matplotlib inline\n",
    "\n",
    "f, ax = plt.subplots(1, figsize=(3, 5))\n",
    "\n",
    "pxlocdatos.plot(ax = ax, column = 'codpcia', edgecolor = 'None', marker = '.')\n",
    "plt.title('Localidades y provincias')\n",
    "plt.savefig('../../source/img/localidades_provincia.png')\n",
    "plt.show()"
   ]
  },
  {
   "cell_type": "code",
   "execution_count": 12,
   "metadata": {
    "collapsed": false
   },
   "outputs": [
    {
     "data": {
      "image/png": "[encoded data removed]",
      "text/plain": [
       "<matplotlib.figure.Figure at 0x7fa74f86f810>"
      ]
     },
     "metadata": {},
     "output_type": "display_data"
    }
   ],
   "source": [
    "import matplotlib\n",
    "matplotlib.rc('axes',edgecolor='w')\n",
    "\n",
    "f, ax = plt.subplots(1, figsize=(3, 5))\n",
    "\n",
    "pxlocdatos.plot(ax = ax, color = 'w', edgecolor = 'None', marker = '.')\n",
    "ax.set_xticks([])\n",
    "ax.set_yticks([])\n",
    "plt.savefig('../../img/logo_localidades_arg.png', transparent=True)"
   ]
  }
 ],
 "metadata": {
  "kernelspec": {
   "display_name": "Python 2",
   "language": "python",
   "name": "python2"
  },
  "language_info": {
   "codemirror_mode": {
    "name": "ipython",
    "version": 2
   },
   "file_extension": ".py",
   "mimetype": "text/x-python",
   "name": "python",
   "nbconvert_exporter": "python",
   "pygments_lexer": "ipython2",
   "version": "2.7.13"
  }
 },
 "nbformat": 4,
 "nbformat_minor": 0
}
